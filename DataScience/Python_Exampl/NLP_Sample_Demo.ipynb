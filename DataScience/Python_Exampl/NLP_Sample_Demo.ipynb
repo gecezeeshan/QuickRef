{
 "cells": [
  {
   "cell_type": "markdown",
   "id": "74ff124e",
   "metadata": {},
   "source": [
    "# 📝 Simple NLP Text Classification (Spam / Not Spam)\n",
    "This notebook demonstrates a **basic NLP pipeline** using **Naive Bayes**."
   ]
  },
  {
   "cell_type": "code",
   "execution_count": null,
   "id": "3f47a71e",
   "metadata": {},
   "outputs": [],
   "source": [
    "\n",
    "# Install dependencies (if needed)\n",
    "# !pip install pandas scikit-learn\n"
   ]
  },
  {
   "cell_type": "code",
   "execution_count": null,
   "id": "3c080d44",
   "metadata": {},
   "outputs": [],
   "source": [
    "\n",
    "import pandas as pd\n",
    "from sklearn.model_selection import train_test_split\n",
    "from sklearn.feature_extraction.text import TfidfVectorizer\n",
    "from sklearn.naive_bayes import MultinomialNB\n",
    "from sklearn.metrics import accuracy_score, classification_report\n"
   ]
  },
  {
   "cell_type": "markdown",
   "id": "65c01236",
   "metadata": {},
   "source": [
    "### 1. Create Sample Dataset"
   ]
  },
  {
   "cell_type": "code",
   "execution_count": null,
   "id": "923696cd",
   "metadata": {},
   "outputs": [],
   "source": [
    "\n",
    "data = {\n",
    "    \"text\": [\n",
    "        \"Win a free iPhone now\",\n",
    "        \"You have been selected for a lottery prize\",\n",
    "        \"Let's meet tomorrow for lunch\",\n",
    "        \"This is your invoice for last month\",\n",
    "        \"Congratulations! You won a gift card\",\n",
    "        \"Please review the attached project document\",\n",
    "        \"Earn money quickly from home\"\n",
    "    ],\n",
    "    \"label\": [\n",
    "        \"spam\", \"spam\", \"ham\", \"ham\", \"spam\", \"ham\", \"spam\"\n",
    "    ]\n",
    "}\n",
    "\n",
    "df = pd.DataFrame(data)\n",
    "df\n"
   ]
  },
  {
   "cell_type": "markdown",
   "id": "20449b93",
   "metadata": {},
   "source": [
    "### 2. Split Data Into Train/Test"
   ]
  },
  {
   "cell_type": "code",
   "execution_count": null,
   "id": "d614ce20",
   "metadata": {},
   "outputs": [],
   "source": [
    "\n",
    "X_train, X_test, y_train, y_test = train_test_split(df[\"text\"], df[\"label\"], test_size=0.3, random_state=42)\n"
   ]
  },
  {
   "cell_type": "markdown",
   "id": "95ed3be3",
   "metadata": {},
   "source": [
    "### 3. Convert Text to Features Using TF-IDF"
   ]
  },
  {
   "cell_type": "code",
   "execution_count": null,
   "id": "752e926f",
   "metadata": {},
   "outputs": [],
   "source": [
    "\n",
    "vectorizer = TfidfVectorizer()\n",
    "X_train_vec = vectorizer.fit_transform(X_train)\n",
    "X_test_vec = vectorizer.transform(X_test)\n"
   ]
  },
  {
   "cell_type": "markdown",
   "id": "593fad47",
   "metadata": {},
   "source": [
    "### 4. Train Naive Bayes Model"
   ]
  },
  {
   "cell_type": "code",
   "execution_count": null,
   "id": "58d3c711",
   "metadata": {},
   "outputs": [],
   "source": [
    "\n",
    "model = MultinomialNB()\n",
    "model.fit(X_train_vec, y_train)\n"
   ]
  },
  {
   "cell_type": "markdown",
   "id": "8780dd4c",
   "metadata": {},
   "source": [
    "### 5. Evaluate Model"
   ]
  },
  {
   "cell_type": "code",
   "execution_count": null,
   "id": "9a444a38",
   "metadata": {},
   "outputs": [],
   "source": [
    "\n",
    "y_pred = model.predict(X_test_vec)\n",
    "print(\"Accuracy:\", accuracy_score(y_test, y_pred))\n",
    "print(classification_report(y_test, y_pred))\n"
   ]
  },
  {
   "cell_type": "markdown",
   "id": "57f9784a",
   "metadata": {},
   "source": [
    "### 6. Test with New Examples"
   ]
  },
  {
   "cell_type": "code",
   "execution_count": null,
   "id": "d33d2808",
   "metadata": {},
   "outputs": [],
   "source": [
    "\n",
    "samples = [\n",
    "    \"Claim your free reward now\",\n",
    "    \"Can we schedule a meeting tomorrow?\"\n",
    "]\n",
    "\n",
    "sample_vec = vectorizer.transform(samples)\n",
    "predictions = model.predict(sample_vec)\n",
    "\n",
    "for text, label in zip(samples, predictions):\n",
    "    print(f\"Text: {text} --> Prediction: {label}\")\n"
   ]
  }
 ],
 "metadata": {},
 "nbformat": 4,
 "nbformat_minor": 5
}
