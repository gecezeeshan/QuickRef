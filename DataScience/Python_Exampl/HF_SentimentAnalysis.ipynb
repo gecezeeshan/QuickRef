{
 "cells": [
  {
   "cell_type": "code",
   "execution_count": 1,
   "id": "182639ed-3690-4a99-a6fb-b550936ddf03",
   "metadata": {},
   "outputs": [
    {
     "name": "stderr",
     "output_type": "stream",
     "text": [
      "G:\\ProgramingFiles\\envs\\nlp-env\\lib\\site-packages\\tqdm\\auto.py:21: TqdmWarning: IProgress not found. Please update jupyter and ipywidgets. See https://ipywidgets.readthedocs.io/en/stable/user_install.html\n",
      "  from .autonotebook import tqdm as notebook_tqdm\n"
     ]
    }
   ],
   "source": [
    "from transformers import pipeline\n",
    "import pandas as pd\n",
    "\n"
   ]
  },
  {
   "cell_type": "code",
   "execution_count": 2,
   "id": "73660196-12e2-4ede-8afd-ea87285ae3e8",
   "metadata": {},
   "outputs": [
    {
     "name": "stderr",
     "output_type": "stream",
     "text": [
      "Device set to use cpu\n"
     ]
    }
   ],
   "source": [
    "# Load pre-trained sentiment analysis pipeline\n",
    "sentiment_model = pipeline(\"sentiment-analysis\"  ,model=\"distilbert/distilbert-base-uncased-finetuned-sst-2-english\",\n",
    "    revision=\"714eb0f\")\n"
   ]
  },
  {
   "cell_type": "code",
   "execution_count": 14,
   "id": "ba15b4dd-12e0-4f33-9dba-f28fabc2708f",
   "metadata": {},
   "outputs": [
    {
     "name": "stdout",
     "output_type": "stream",
     "text": [
      "                              review_text sentiment_label  sentiment_score\n",
      "0                    I love this product!        POSITIVE         0.999886\n",
      "1                       This is terrible.        NEGATIVE         0.999635\n",
      "2  The service was okay, nothing special.        NEGATIVE         0.986240\n",
      "3        Absolutely fantastic experience!        POSITIVE         0.999881\n",
      "4    I wouldn’t recommend this to anyone.        POSITIVE         0.506270\n",
      "5                      I Like Programming        POSITIVE         0.999508\n",
      "6      Hats off to the programming people        POSITIVE         0.920708\n",
      "7                   I don't hate my enemy        POSITIVE         0.999215\n"
     ]
    }
   ],
   "source": [
    "# Sample data\n",
    "df = pd.DataFrame({\n",
    "    'review_text': [\n",
    "        \"I love this product!\",\n",
    "        \"This is terrible.\",\n",
    "        \"The service was okay, nothing special.\",\n",
    "        \"Absolutely fantastic experience!\",\n",
    "        \"I wouldn’t recommend this to anyone.\",\n",
    "        \"I Like Programming\",\n",
    "        \"Hats off to the programming people\",\n",
    "        \"I don't hate my enemy\"\n",
    "    ]\n",
    "})\n",
    "\n",
    "# Apply model\n",
    "results = sentiment_model(df['review_text'].tolist())\n",
    "\n",
    "# Convert results into columns\n",
    "df['sentiment_label'] = [r['label'] for r in results]\n",
    "df['sentiment_score'] = [r['score'] for r in results]\n",
    "\n",
    "print(df)"
   ]
  },
  {
   "cell_type": "code",
   "execution_count": 4,
   "id": "5fc06dfa-87ef-4103-b9f9-2a8428777e25",
   "metadata": {},
   "outputs": [
    {
     "name": "stdout",
     "output_type": "stream",
     "text": [
      "[{'label': 'POSITIVE', 'score': 0.9998855590820312}, {'label': 'NEGATIVE', 'score': 0.9996345043182373}, {'label': 'NEGATIVE', 'score': 0.9862403273582458}, {'label': 'POSITIVE', 'score': 0.9998812675476074}, {'label': 'POSITIVE', 'score': 0.5062704682350159}]\n"
     ]
    }
   ],
   "source": [
    "print(results)"
   ]
  },
  {
   "cell_type": "code",
   "execution_count": 5,
   "id": "57e5b629-de70-4974-8dad-df6a3a519271",
   "metadata": {},
   "outputs": [
    {
     "name": "stdout",
     "output_type": "stream",
     "text": [
      "[{'label': 'NEGATIVE', 'score': 0.9994630217552185}]\n"
     ]
    }
   ],
   "source": [
    "result_new = sentiment_model([\"hello this is not the best product as it got damage\"])\n",
    "print(result_new)"
   ]
  },
  {
   "cell_type": "code",
   "execution_count": null,
   "id": "bd1ac44b-3845-430f-b801-2efa982110fd",
   "metadata": {},
   "outputs": [],
   "source": []
  }
 ],
 "metadata": {
  "kernelspec": {
   "display_name": "Python (nlp-env)",
   "language": "python",
   "name": "nlp-env"
  },
  "language_info": {
   "codemirror_mode": {
    "name": "ipython",
    "version": 3
   },
   "file_extension": ".py",
   "mimetype": "text/x-python",
   "name": "python",
   "nbconvert_exporter": "python",
   "pygments_lexer": "ipython3",
   "version": "3.10.18"
  }
 },
 "nbformat": 4,
 "nbformat_minor": 5
}
