{
 "cells": [
  {
   "cell_type": "code",
   "execution_count": 19,
   "id": "6a3cb6a9-8d31-4390-9831-c374f9522cf5",
   "metadata": {},
   "outputs": [],
   "source": [
    "import pandas as pd\n",
    "from transformers import pipeline\n",
    "\n",
    "import pandas as pd\n",
    "import numpy as np\n",
    "import matplotlib.pyplot as plt\n",
    "from sklearn.model_selection import train_test_split\n",
    "from sklearn.feature_extraction.text import TfidfVectorizer\n",
    "from sklearn.naive_bayes import MultinomialNB\n",
    "from sklearn.metrics import accuracy_score, confusion_matrix, classification_report\n",
    "import nltk\n",
    "from nltk.corpus import stopwords\n",
    "import re"
   ]
  },
  {
   "cell_type": "code",
   "execution_count": 21,
   "id": "4b815477-7cbf-431c-b6a1-fb0cbe67208b",
   "metadata": {},
   "outputs": [],
   "source": [
    "#df = pd.read_csv(\"../Course Materials/Data/childrens_books.csv\")\n",
    "df = pd.read_csv(r\"C:\\Users\\zeeshan.ali\\DS\\Course Materials\\Data\\childrens_books.csv\")"
   ]
  },
  {
   "cell_type": "code",
   "execution_count": 27,
   "id": "a637d015-16e2-4f03-996f-c9062f5ebd79",
   "metadata": {},
   "outputs": [],
   "source": [
    "pd.set_option('display.max_colwidth', None)"
   ]
  },
  {
   "cell_type": "code",
   "execution_count": 29,
   "id": "b8fa033d-a935-4bbb-85f4-d2daf53e34f3",
   "metadata": {},
   "outputs": [
    {
     "data": {
      "text/html": [
       "<div>\n",
       "<style scoped>\n",
       "    .dataframe tbody tr th:only-of-type {\n",
       "        vertical-align: middle;\n",
       "    }\n",
       "\n",
       "    .dataframe tbody tr th {\n",
       "        vertical-align: top;\n",
       "    }\n",
       "\n",
       "    .dataframe thead th {\n",
       "        text-align: right;\n",
       "    }\n",
       "</style>\n",
       "<table border=\"1\" class=\"dataframe\">\n",
       "  <thead>\n",
       "    <tr style=\"text-align: right;\">\n",
       "      <th></th>\n",
       "      <th>Ranking</th>\n",
       "      <th>Title</th>\n",
       "      <th>Author</th>\n",
       "      <th>Year</th>\n",
       "      <th>Rating</th>\n",
       "      <th>Description</th>\n",
       "    </tr>\n",
       "  </thead>\n",
       "  <tbody>\n",
       "    <tr>\n",
       "      <th>0</th>\n",
       "      <td>1</td>\n",
       "      <td>Where the Wild Things Are</td>\n",
       "      <td>Maurice Sendak</td>\n",
       "      <td>1963</td>\n",
       "      <td>4.25</td>\n",
       "      <td>Where the Wild Things Are follows Max, a young boy who, after being sent to his room for misbehaving, imagines sailing to an island filled with wild creatures. As their king, Max tames the beasts and eventually returns home to find his supper waiting for him. This iconic book explores themes of imagination, adventure, and the complex emotions of childhood, all captured through Sendak's whimsical illustrations and story.</td>\n",
       "    </tr>\n",
       "    <tr>\n",
       "      <th>1</th>\n",
       "      <td>2</td>\n",
       "      <td>The Very Hungry Caterpillar</td>\n",
       "      <td>Eric Carle</td>\n",
       "      <td>1969</td>\n",
       "      <td>4.34</td>\n",
       "      <td>The Very Hungry Caterpillar tells the story of a caterpillar who eats through a variety of foods before eventually becoming a butterfly. Eric Carle’s use of colorful collage illustrations and rhythmic text has made this book a beloved classic for young readers. The simple, engaging story introduces children to days of the week, counting, and the concept of metamorphosis. It’s a staple in early childhood education.</td>\n",
       "    </tr>\n",
       "    <tr>\n",
       "      <th>2</th>\n",
       "      <td>3</td>\n",
       "      <td>The Giving Tree</td>\n",
       "      <td>Shel Silverstein</td>\n",
       "      <td>1964</td>\n",
       "      <td>4.38</td>\n",
       "      <td>The Giving Tree is a touching and bittersweet story about a tree that gives everything it has to a boy over the course of his life. As the boy grows up, he takes more from the tree, and the tree continues to give, even when it has little left. Silverstein’s minimalist text and illustrations convey deep themes of unconditional love, selflessness, and the passage of time. It has sparked much discussion about relationships and sacrifice.</td>\n",
       "    </tr>\n",
       "    <tr>\n",
       "      <th>3</th>\n",
       "      <td>4</td>\n",
       "      <td>Green Eggs and Ham</td>\n",
       "      <td>Dr. Seuss</td>\n",
       "      <td>1960</td>\n",
       "      <td>4.31</td>\n",
       "      <td>In Green Eggs and Ham, Sam-I-Am tries to convince a reluctant character to try a dish of green eggs and ham, despite his resistance. Through repetition and rhyme, Dr. Seuss’s classic story about being open to new experiences encourages children to be adventurous and try things outside their comfort zone. The playful illustrations and humorous dialogue make it a fun and educational read for young readers.</td>\n",
       "    </tr>\n",
       "    <tr>\n",
       "      <th>4</th>\n",
       "      <td>5</td>\n",
       "      <td>Goodnight Moon</td>\n",
       "      <td>Margaret Wise Brown</td>\n",
       "      <td>1947</td>\n",
       "      <td>4.31</td>\n",
       "      <td>Goodnight Moon is a gentle, rhythmic bedtime story where a little bunny says goodnight to everything in his room, from the moon to the \"quiet old lady whispering hush.\" Its repetitive structure and comforting tone make it ideal for young children. The simple illustrations by Clement Hurd complement the soothing nature of the story, making it a beloved classic for sleep-time reading.</td>\n",
       "    </tr>\n",
       "  </tbody>\n",
       "</table>\n",
       "</div>"
      ],
      "text/plain": [
       "   Ranking                        Title               Author  Year Rating  \\\n",
       "0        1    Where the Wild Things Are       Maurice Sendak  1963   4.25   \n",
       "1        2  The Very Hungry Caterpillar           Eric Carle  1969   4.34   \n",
       "2        3              The Giving Tree     Shel Silverstein  1964   4.38   \n",
       "3        4           Green Eggs and Ham            Dr. Seuss  1960   4.31   \n",
       "4        5               Goodnight Moon  Margaret Wise Brown  1947   4.31   \n",
       "\n",
       "                                                                                                                                                                                                                                                                                                                                                                                                                                              Description  \n",
       "0                 Where the Wild Things Are follows Max, a young boy who, after being sent to his room for misbehaving, imagines sailing to an island filled with wild creatures. As their king, Max tames the beasts and eventually returns home to find his supper waiting for him. This iconic book explores themes of imagination, adventure, and the complex emotions of childhood, all captured through Sendak's whimsical illustrations and story.  \n",
       "1                       The Very Hungry Caterpillar tells the story of a caterpillar who eats through a variety of foods before eventually becoming a butterfly. Eric Carle’s use of colorful collage illustrations and rhythmic text has made this book a beloved classic for young readers. The simple, engaging story introduces children to days of the week, counting, and the concept of metamorphosis. It’s a staple in early childhood education.  \n",
       "2  The Giving Tree is a touching and bittersweet story about a tree that gives everything it has to a boy over the course of his life. As the boy grows up, he takes more from the tree, and the tree continues to give, even when it has little left. Silverstein’s minimalist text and illustrations convey deep themes of unconditional love, selflessness, and the passage of time. It has sparked much discussion about relationships and sacrifice.  \n",
       "3                                 In Green Eggs and Ham, Sam-I-Am tries to convince a reluctant character to try a dish of green eggs and ham, despite his resistance. Through repetition and rhyme, Dr. Seuss’s classic story about being open to new experiences encourages children to be adventurous and try things outside their comfort zone. The playful illustrations and humorous dialogue make it a fun and educational read for young readers.  \n",
       "4                                                       Goodnight Moon is a gentle, rhythmic bedtime story where a little bunny says goodnight to everything in his room, from the moon to the \"quiet old lady whispering hush.\" Its repetitive structure and comforting tone make it ideal for young children. The simple illustrations by Clement Hurd complement the soothing nature of the story, making it a beloved classic for sleep-time reading.  "
      ]
     },
     "execution_count": 29,
     "metadata": {},
     "output_type": "execute_result"
    }
   ],
   "source": [
    "df.head()"
   ]
  },
  {
   "cell_type": "code",
   "execution_count": 9,
   "id": "423356c0-96f9-4909-88a9-aa0f45eae493",
   "metadata": {},
   "outputs": [
    {
     "ename": "NameError",
     "evalue": "name 'clean_text' is not defined",
     "output_type": "error",
     "traceback": [
      "\u001b[1;31m---------------------------------------------------------------------------\u001b[0m",
      "\u001b[1;31mNameError\u001b[0m                                 Traceback (most recent call last)",
      "Cell \u001b[1;32mIn[9], line 3\u001b[0m\n\u001b[0;32m      1\u001b[0m \u001b[38;5;66;03m#df[\"Description\"][0].lower().replace(\"\\xa0\",\" \").strip()\u001b[39;00m\n\u001b[1;32m----> 3\u001b[0m \u001b[38;5;28mprint\u001b[39m(\u001b[43mclean_text\u001b[49m(df[\u001b[38;5;124m\"\u001b[39m\u001b[38;5;124mDescription\u001b[39m\u001b[38;5;124m\"\u001b[39m][\u001b[38;5;241m0\u001b[39m]))\n\u001b[0;32m      7\u001b[0m \u001b[38;5;28;01mdef\u001b[39;00m\u001b[38;5;250m \u001b[39m\u001b[38;5;21mclean_text\u001b[39m(text):\n\u001b[0;32m      8\u001b[0m     text \u001b[38;5;241m=\u001b[39m text\u001b[38;5;241m.\u001b[39mlower()                                 \u001b[38;5;66;03m# lowercase\u001b[39;00m\n",
      "\u001b[1;31mNameError\u001b[0m: name 'clean_text' is not defined"
     ]
    }
   ],
   "source": [
    "#df[\"Description\"][0].lower().replace(\"\\xa0\",\" \").strip()\n",
    "\n",
    "print(clean_text(df[\"Description\"][0]))\n",
    "\n",
    "\n",
    "\n",
    "def clean_text(text):\n",
    "    text = text.lower()                                 # lowercase\n",
    "    text = re.sub(r'[^a-z\\s]', '', text)                # remove punctuation/numbers\n",
    "    words = text.split()\n",
    "    stop_words = set(stopwords.words('english'))\n",
    "    words = [w for w in words if w not in stop_words]   # remove stopwords\n",
    "    return \" \".join(words)\n"
   ]
  },
  {
   "cell_type": "code",
   "execution_count": 11,
   "id": "ace90a40-df1b-4545-94b6-b9a894e003d8",
   "metadata": {},
   "outputs": [
    {
     "name": "stderr",
     "output_type": "stream",
     "text": [
      "[nltk_data] Downloading package stopwords to\n",
      "[nltk_data]     C:\\Users\\zeeshan.ali\\AppData\\Roaming\\nltk_data...\n",
      "[nltk_data]   Package stopwords is already up-to-date!\n"
     ]
    },
    {
     "data": {
      "text/plain": [
       "True"
      ]
     },
     "execution_count": 11,
     "metadata": {},
     "output_type": "execute_result"
    }
   ],
   "source": [
    "nltk.download('stopwords')"
   ]
  },
  {
   "cell_type": "code",
   "execution_count": 101,
   "id": "67a241b6-d4e7-4cce-b56a-24d793946a9e",
   "metadata": {},
   "outputs": [
    {
     "name": "stdout",
     "output_type": "stream",
     "text": [
      "   Ranking                        Title               Author  Year Rating  \\\n",
      "0        1    Where the Wild Things Are       Maurice Sendak  1963   4.25   \n",
      "1        2  The Very Hungry Caterpillar           Eric Carle  1969   4.34   \n",
      "2        3              The Giving Tree     Shel Silverstein  1964   4.38   \n",
      "3        4           Green Eggs and Ham            Dr. Seuss  1960   4.31   \n",
      "4        5               Goodnight Moon  Margaret Wise Brown  1947   4.31   \n",
      "\n",
      "                                                                                                                                                                                                                                                                                                                                                                                                                                              Description  \\\n",
      "0                 Where the Wild Things Are follows Max, a young boy who, after being sent to his room for misbehaving, imagines sailing to an island filled with wild creatures. As their king, Max tames the beasts and eventually returns home to find his supper waiting for him. This iconic book explores themes of imagination, adventure, and the complex emotions of childhood, all captured through Sendak's whimsical illustrations and story.   \n",
      "1                       The Very Hungry Caterpillar tells the story of a caterpillar who eats through a variety of foods before eventually becoming a butterfly. Eric Carle’s use of colorful collage illustrations and rhythmic text has made this book a beloved classic for young readers. The simple, engaging story introduces children to days of the week, counting, and the concept of metamorphosis. It’s a staple in early childhood education.   \n",
      "2  The Giving Tree is a touching and bittersweet story about a tree that gives everything it has to a boy over the course of his life. As the boy grows up, he takes more from the tree, and the tree continues to give, even when it has little left. Silverstein’s minimalist text and illustrations convey deep themes of unconditional love, selflessness, and the passage of time. It has sparked much discussion about relationships and sacrifice.   \n",
      "3                                 In Green Eggs and Ham, Sam-I-Am tries to convince a reluctant character to try a dish of green eggs and ham, despite his resistance. Through repetition and rhyme, Dr. Seuss’s classic story about being open to new experiences encourages children to be adventurous and try things outside their comfort zone. The playful illustrations and humorous dialogue make it a fun and educational read for young readers.   \n",
      "4                                                       Goodnight Moon is a gentle, rhythmic bedtime story where a little bunny says goodnight to everything in his room, from the moon to the \"quiet old lady whispering hush.\" Its repetitive structure and comforting tone make it ideal for young children. The simple illustrations by Clement Hurd complement the soothing nature of the story, making it a beloved classic for sleep-time reading.   \n",
      "\n",
      "                                                                                                                                                                                                                                                                                                             clean_text  \n",
      "0                   wild things follows max young boy sent room misbehaving imagines sailing island filled wild creatures king max tames beasts eventually returns home find supper waiting iconic book explores themes imagination adventure complex emotions childhood captured sendaks whimsical illustrations story  \n",
      "1  hungry caterpillar tells story caterpillar eats variety foods eventually becoming butterfly eric carles use colorful collage illustrations rhythmic text made book beloved classic young readers simple engaging story introduces children days week counting concept metamorphosis staple early childhood education  \n",
      "2                     giving tree touching bittersweet story tree gives everything boy course life boy grows takes tree tree continues give even little left silversteins minimalist text illustrations convey deep themes unconditional love selflessness passage time sparked much discussion relationships sacrifice  \n",
      "3     green eggs ham samiam tries convince reluctant character try dish green eggs ham despite resistance repetition rhyme dr seusss classic story open new experiences encourages children adventurous try things outside comfort zone playful illustrations humorous dialogue make fun educational read young readers  \n",
      "4               goodnight moon gentle rhythmic bedtime story little bunny says goodnight everything room moon quiet old lady whispering hush repetitive structure comforting tone make ideal young children simple illustrations clement hurd complement soothing nature story making beloved classic sleeptime reading  \n"
     ]
    }
   ],
   "source": [
    "df['clean_text'] = df['Description'].apply(clean_text)\n",
    "print(df.head())"
   ]
  },
  {
   "cell_type": "code",
   "execution_count": 111,
   "id": "3e1e767d-04bc-42e8-8f3a-e804ba58db79",
   "metadata": {},
   "outputs": [],
   "source": [
    "vectorizer = TfidfVectorizer(max_features=1000)\n",
    "X = vectorizer.fit_transform(df['clean_text'])\n",
    "y = df['Label']"
   ]
  },
  {
   "cell_type": "code",
   "execution_count": 113,
   "id": "9366841c-d729-4a6b-8d16-c05cc7becd16",
   "metadata": {},
   "outputs": [],
   "source": [
    "X_train, X_test, y_train, y_test = train_test_split(X, y, test_size=0.2, random_state=42)\n"
   ]
  },
  {
   "cell_type": "code",
   "execution_count": 115,
   "id": "5735469c-6be1-45d6-bcf1-06c8ff676e9e",
   "metadata": {},
   "outputs": [
    {
     "ename": "ValueError",
     "evalue": "Unknown label type: (array([None, None, None, None, None, None, None, None, None, None, None,\n       None, None, None, None, None, None, None, None, None, None, None,\n       None, None, None, None, None, None, None, None, None, None, None,\n       None, None, None, None, None, None, None, None, None, None, None,\n       None, None, None, None, None, None, None, None, None, None, None,\n       None, None, None, None, None, None, None, None, None, None, None,\n       None, None, None, None, None, None, None, None, None, None, None,\n       None, None, None], dtype=object),)",
     "output_type": "error",
     "traceback": [
      "\u001b[31m---------------------------------------------------------------------------\u001b[39m",
      "\u001b[31mValueError\u001b[39m                                Traceback (most recent call last)",
      "\u001b[36mCell\u001b[39m\u001b[36m \u001b[39m\u001b[32mIn[115]\u001b[39m\u001b[32m, line 2\u001b[39m\n\u001b[32m      1\u001b[39m model = MultinomialNB()\n\u001b[32m----> \u001b[39m\u001b[32m2\u001b[39m \u001b[43mmodel\u001b[49m\u001b[43m.\u001b[49m\u001b[43mfit\u001b[49m\u001b[43m(\u001b[49m\u001b[43mX_train\u001b[49m\u001b[43m,\u001b[49m\u001b[43m \u001b[49m\u001b[43my_train\u001b[49m\u001b[43m)\u001b[49m\n",
      "\u001b[36mFile \u001b[39m\u001b[32mG:\\ProgramingFiles\\Lib\\site-packages\\sklearn\\base.py:1474\u001b[39m, in \u001b[36m_fit_context.<locals>.decorator.<locals>.wrapper\u001b[39m\u001b[34m(estimator, *args, **kwargs)\u001b[39m\n\u001b[32m   1467\u001b[39m     estimator._validate_params()\n\u001b[32m   1469\u001b[39m \u001b[38;5;28;01mwith\u001b[39;00m config_context(\n\u001b[32m   1470\u001b[39m     skip_parameter_validation=(\n\u001b[32m   1471\u001b[39m         prefer_skip_nested_validation \u001b[38;5;129;01mor\u001b[39;00m global_skip_validation\n\u001b[32m   1472\u001b[39m     )\n\u001b[32m   1473\u001b[39m ):\n\u001b[32m-> \u001b[39m\u001b[32m1474\u001b[39m     \u001b[38;5;28;01mreturn\u001b[39;00m \u001b[43mfit_method\u001b[49m\u001b[43m(\u001b[49m\u001b[43mestimator\u001b[49m\u001b[43m,\u001b[49m\u001b[43m \u001b[49m\u001b[43m*\u001b[49m\u001b[43margs\u001b[49m\u001b[43m,\u001b[49m\u001b[43m \u001b[49m\u001b[43m*\u001b[49m\u001b[43m*\u001b[49m\u001b[43mkwargs\u001b[49m\u001b[43m)\u001b[49m\n",
      "\u001b[36mFile \u001b[39m\u001b[32mG:\\ProgramingFiles\\Lib\\site-packages\\sklearn\\naive_bayes.py:736\u001b[39m, in \u001b[36m_BaseDiscreteNB.fit\u001b[39m\u001b[34m(self, X, y, sample_weight)\u001b[39m\n\u001b[32m    733\u001b[39m _, n_features = X.shape\n\u001b[32m    735\u001b[39m labelbin = LabelBinarizer()\n\u001b[32m--> \u001b[39m\u001b[32m736\u001b[39m Y = \u001b[43mlabelbin\u001b[49m\u001b[43m.\u001b[49m\u001b[43mfit_transform\u001b[49m\u001b[43m(\u001b[49m\u001b[43my\u001b[49m\u001b[43m)\u001b[49m\n\u001b[32m    737\u001b[39m \u001b[38;5;28mself\u001b[39m.classes_ = labelbin.classes_\n\u001b[32m    738\u001b[39m \u001b[38;5;28;01mif\u001b[39;00m Y.shape[\u001b[32m1\u001b[39m] == \u001b[32m1\u001b[39m:\n",
      "\u001b[36mFile \u001b[39m\u001b[32mG:\\ProgramingFiles\\Lib\\site-packages\\sklearn\\preprocessing\\_label.py:329\u001b[39m, in \u001b[36mLabelBinarizer.fit_transform\u001b[39m\u001b[34m(self, y)\u001b[39m\n\u001b[32m    309\u001b[39m \u001b[38;5;28;01mdef\u001b[39;00m \u001b[34mfit_transform\u001b[39m(\u001b[38;5;28mself\u001b[39m, y):\n\u001b[32m    310\u001b[39m \u001b[38;5;250m    \u001b[39m\u001b[33;03m\"\"\"Fit label binarizer/transform multi-class labels to binary labels.\u001b[39;00m\n\u001b[32m    311\u001b[39m \n\u001b[32m    312\u001b[39m \u001b[33;03m    The output of transform is sometimes referred to as\u001b[39;00m\n\u001b[32m   (...)\u001b[39m\u001b[32m    327\u001b[39m \u001b[33;03m        will be of CSR format.\u001b[39;00m\n\u001b[32m    328\u001b[39m \u001b[33;03m    \"\"\"\u001b[39;00m\n\u001b[32m--> \u001b[39m\u001b[32m329\u001b[39m     \u001b[38;5;28;01mreturn\u001b[39;00m \u001b[38;5;28;43mself\u001b[39;49m\u001b[43m.\u001b[49m\u001b[43mfit\u001b[49m\u001b[43m(\u001b[49m\u001b[43my\u001b[49m\u001b[43m)\u001b[49m.transform(y)\n",
      "\u001b[36mFile \u001b[39m\u001b[32mG:\\ProgramingFiles\\Lib\\site-packages\\sklearn\\base.py:1474\u001b[39m, in \u001b[36m_fit_context.<locals>.decorator.<locals>.wrapper\u001b[39m\u001b[34m(estimator, *args, **kwargs)\u001b[39m\n\u001b[32m   1467\u001b[39m     estimator._validate_params()\n\u001b[32m   1469\u001b[39m \u001b[38;5;28;01mwith\u001b[39;00m config_context(\n\u001b[32m   1470\u001b[39m     skip_parameter_validation=(\n\u001b[32m   1471\u001b[39m         prefer_skip_nested_validation \u001b[38;5;129;01mor\u001b[39;00m global_skip_validation\n\u001b[32m   1472\u001b[39m     )\n\u001b[32m   1473\u001b[39m ):\n\u001b[32m-> \u001b[39m\u001b[32m1474\u001b[39m     \u001b[38;5;28;01mreturn\u001b[39;00m \u001b[43mfit_method\u001b[49m\u001b[43m(\u001b[49m\u001b[43mestimator\u001b[49m\u001b[43m,\u001b[49m\u001b[43m \u001b[49m\u001b[43m*\u001b[49m\u001b[43margs\u001b[49m\u001b[43m,\u001b[49m\u001b[43m \u001b[49m\u001b[43m*\u001b[49m\u001b[43m*\u001b[49m\u001b[43mkwargs\u001b[49m\u001b[43m)\u001b[49m\n",
      "\u001b[36mFile \u001b[39m\u001b[32mG:\\ProgramingFiles\\Lib\\site-packages\\sklearn\\preprocessing\\_label.py:306\u001b[39m, in \u001b[36mLabelBinarizer.fit\u001b[39m\u001b[34m(self, y)\u001b[39m\n\u001b[32m    303\u001b[39m     \u001b[38;5;28;01mraise\u001b[39;00m \u001b[38;5;167;01mValueError\u001b[39;00m(\u001b[33m\"\u001b[39m\u001b[33my has 0 samples: \u001b[39m\u001b[38;5;132;01m%r\u001b[39;00m\u001b[33m\"\u001b[39m % y)\n\u001b[32m    305\u001b[39m \u001b[38;5;28mself\u001b[39m.sparse_input_ = sp.issparse(y)\n\u001b[32m--> \u001b[39m\u001b[32m306\u001b[39m \u001b[38;5;28mself\u001b[39m.classes_ = \u001b[43munique_labels\u001b[49m\u001b[43m(\u001b[49m\u001b[43my\u001b[49m\u001b[43m)\u001b[49m\n\u001b[32m    307\u001b[39m \u001b[38;5;28;01mreturn\u001b[39;00m \u001b[38;5;28mself\u001b[39m\n",
      "\u001b[36mFile \u001b[39m\u001b[32mG:\\ProgramingFiles\\Lib\\site-packages\\sklearn\\utils\\multiclass.py:106\u001b[39m, in \u001b[36munique_labels\u001b[39m\u001b[34m(*ys)\u001b[39m\n\u001b[32m    104\u001b[39m _unique_labels = _FN_UNIQUE_LABELS.get(label_type, \u001b[38;5;28;01mNone\u001b[39;00m)\n\u001b[32m    105\u001b[39m \u001b[38;5;28;01mif\u001b[39;00m \u001b[38;5;129;01mnot\u001b[39;00m _unique_labels:\n\u001b[32m--> \u001b[39m\u001b[32m106\u001b[39m     \u001b[38;5;28;01mraise\u001b[39;00m \u001b[38;5;167;01mValueError\u001b[39;00m(\u001b[33m\"\u001b[39m\u001b[33mUnknown label type: \u001b[39m\u001b[38;5;132;01m%s\u001b[39;00m\u001b[33m\"\u001b[39m % \u001b[38;5;28mrepr\u001b[39m(ys))\n\u001b[32m    108\u001b[39m \u001b[38;5;28;01mif\u001b[39;00m is_array_api_compliant:\n\u001b[32m    109\u001b[39m     \u001b[38;5;66;03m# array_api does not allow for mixed dtypes\u001b[39;00m\n\u001b[32m    110\u001b[39m     unique_ys = xp.concat([_unique_labels(y) \u001b[38;5;28;01mfor\u001b[39;00m y \u001b[38;5;129;01min\u001b[39;00m ys])\n",
      "\u001b[31mValueError\u001b[39m: Unknown label type: (array([None, None, None, None, None, None, None, None, None, None, None,\n       None, None, None, None, None, None, None, None, None, None, None,\n       None, None, None, None, None, None, None, None, None, None, None,\n       None, None, None, None, None, None, None, None, None, None, None,\n       None, None, None, None, None, None, None, None, None, None, None,\n       None, None, None, None, None, None, None, None, None, None, None,\n       None, None, None, None, None, None, None, None, None, None, None,\n       None, None, None], dtype=object),)"
     ]
    }
   ],
   "source": [
    "model = MultinomialNB()\n",
    "model.fit(X_train, y_train)"
   ]
  },
  {
   "cell_type": "code",
   "execution_count": null,
   "id": "d2db5810-ce26-435e-afeb-5f71a8be9452",
   "metadata": {},
   "outputs": [],
   "source": []
  }
 ],
 "metadata": {
  "kernelspec": {
   "display_name": "Python (nlp-env)",
   "language": "python",
   "name": "nlp-env"
  },
  "language_info": {
   "codemirror_mode": {
    "name": "ipython",
    "version": 3
   },
   "file_extension": ".py",
   "mimetype": "text/x-python",
   "name": "python",
   "nbconvert_exporter": "python",
   "pygments_lexer": "ipython3",
   "version": "3.10.18"
  }
 },
 "nbformat": 4,
 "nbformat_minor": 5
}
